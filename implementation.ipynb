{
 "cells": [
  {
   "cell_type": "code",
   "execution_count": null,
   "id": "ebe3ac7f",
   "metadata": {},
   "outputs": [],
   "source": [
    "import warnings\n",
    "import matplotlib.pyplot as plt\n",
    "from utils.utils import *\n",
    "from utils.objective import *"
   ]
  },
  {
   "cell_type": "code",
   "execution_count": null,
   "id": "bfb5feac",
   "metadata": {},
   "outputs": [],
   "source": [
    "warnings.simplefilter('ignore')\n",
    "asset_list = ['VTI', 'VEA', 'VWO', 'IAU', 'DBC', 'XLB', 'XLE', 'XLF', 'XLI', 'XLK', 'XLP', 'XLU', 'XLV', 'XLY']\n",
    "price_df = get_price_df(asset_list)\n",
    "rebal_dates = get_rebal_dates(price_df)\n",
    "price_df = price_df.drop(['year','month'], axis=1)\n",
    "rtn_df = np.log(price_df / price_df.shift(1)).dropna()"
   ]
  },
  {
   "cell_type": "code",
   "execution_count": null,
   "id": "66447c6f",
   "metadata": {},
   "outputs": [],
   "source": [
    "stock2vec_iv_mv = weights_by_stock2vec(rtn_df, rebal_dates, inverse_volatility_min_vol_optimize)\n",
    "stock2vec_db_iv = weights_by_stock2vec(rtn_df, rebal_dates, double_inverse_volatility_optimize)\n",
    "rp = weights_by_optimize(rtn_df, rebal_dates, rp_optimize)\n",
    "mv = weights_by_optimize(rtn_df, rebal_dates, min_vol_optimize)\n",
    "ms = weights_by_optimize(rtn_df, rebal_dates, max_sharpe_optimize)\n",
    "ew = weights_by_vanilla(rtn_df, rebal_dates, 'equal')\n",
    "iv = weights_by_vanilla(rtn_df, rebal_dates, 'inverse')"
   ]
  },
  {
   "cell_type": "code",
   "execution_count": null,
   "id": "1d3aa8f0",
   "metadata": {},
   "outputs": [],
   "source": [
    "cum_rtn1 = compute_portfolio_cum_rtn(price_df, stock2vec_iv_mv).sum(axis=1)\n",
    "cum_rtn2 = compute_portfolio_cum_rtn(price_df, stock2vec_db_iv).sum(axis=1)\n",
    "cum_rtn3 = compute_portfolio_cum_rtn(price_df, rp).sum(axis=1)\n",
    "cum_rtn4 = compute_portfolio_cum_rtn(price_df, mv).sum(axis=1)\n",
    "cum_rtn5 = compute_portfolio_cum_rtn(price_df, ms).sum(axis=1)\n",
    "cum_rtn6 = compute_portfolio_cum_rtn(price_df, ew).sum(axis=1)\n",
    "cum_rtn7 = compute_portfolio_cum_rtn(price_df, iv).sum(axis=1)"
   ]
  }
 ],
 "metadata": {
  "hide_input": false,
  "kernelspec": {
   "display_name": "xai",
   "language": "python",
   "name": "xai"
  },
  "language_info": {
   "codemirror_mode": {
    "name": "ipython",
    "version": 3
   },
   "file_extension": ".py",
   "mimetype": "text/x-python",
   "name": "python",
   "nbconvert_exporter": "python",
   "pygments_lexer": "ipython3",
   "version": "3.8.12"
  },
  "toc": {
   "base_numbering": 1,
   "nav_menu": {},
   "number_sections": true,
   "sideBar": true,
   "skip_h1_title": false,
   "title_cell": "Table of Contents",
   "title_sidebar": "Contents",
   "toc_cell": false,
   "toc_position": {},
   "toc_section_display": true,
   "toc_window_display": false
  },
  "varInspector": {
   "cols": {
    "lenName": 16,
    "lenType": 16,
    "lenVar": 40
   },
   "kernels_config": {
    "python": {
     "delete_cmd_postfix": "",
     "delete_cmd_prefix": "del ",
     "library": "var_list.py",
     "varRefreshCmd": "print(var_dic_list())"
    },
    "r": {
     "delete_cmd_postfix": ") ",
     "delete_cmd_prefix": "rm(",
     "library": "var_list.r",
     "varRefreshCmd": "cat(var_dic_list()) "
    }
   },
   "types_to_exclude": [
    "module",
    "function",
    "builtin_function_or_method",
    "instance",
    "_Feature"
   ],
   "window_display": false
  }
 },
 "nbformat": 4,
 "nbformat_minor": 5
}
